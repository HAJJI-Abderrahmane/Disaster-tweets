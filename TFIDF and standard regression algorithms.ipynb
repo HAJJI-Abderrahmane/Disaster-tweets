{
 "cells": [
  {
   "cell_type": "code",
   "execution_count": null,
   "metadata": {
    "colab": {
     "base_uri": "https://localhost:8080/"
    },
    "executionInfo": {
     "elapsed": 85252,
     "status": "ok",
     "timestamp": 1609979485656,
     "user": {
      "displayName": "Abderrahmane HAJJI",
      "photoUrl": "",
      "userId": "15675344311234361853"
     },
     "user_tz": -60
    },
    "id": "7umBluPDx3oJ",
    "outputId": "5499cd3e-eee5-4c2a-b856-af14042bfa3d"
   },
   "outputs": [
    {
     "name": "stdout",
     "output_type": "stream",
     "text": [
      "Mounted at /content/mydrive\n"
     ]
    }
   ],
   "source": [
    "import numpy as np \n",
    "import pandas as pd \n",
    "import matplotlib.pyplot as plt\n",
    "\n",
    "tweets = pd.read_csv('/data/train.csv')\n",
    "test = pd.read_csv('/data/test.csv')\n",
    "\n"
   ]
  },
  {
   "cell_type": "markdown",
   "metadata": {
    "id": "wdr7y3UT70AL"
   },
   "source": [
    "Results with the TeYang Lau Preprocessing :[Gyazo](https://gyazo.com/50b20b8461c1c989cb0456638c594f63)\n",
    "Results without Preprocessing at all : [Gyazo](https://gyazo.com/b4bdd32f8a1b4937c6f8903c2966b249)"
   ]
  },
  {
   "cell_type": "code",
   "execution_count": null,
   "metadata": {
    "id": "ffl03XVhyAMH"
   },
   "outputs": [],
   "source": [
    "from sklearn.feature_extraction.text import TfidfVectorizer\n",
    "vectorizer = TfidfVectorizer()\n",
    "X=vectorizer.fit_transform(tweets.text.astype(str))\n",
    "Y=tweets.target\n"
   ]
  },
  {
   "cell_type": "code",
   "execution_count": null,
   "metadata": {
    "id": "VaXqRUNzySN0"
   },
   "outputs": [],
   "source": [
    "from sklearn.model_selection import train_test_split\n",
    "X_train, X_test, y_train, y_test = train_test_split(X, Y, random_state=0)"
   ]
  },
  {
   "cell_type": "code",
   "execution_count": null,
   "metadata": {
    "id": "uzJZCcr_yTpy"
   },
   "outputs": [],
   "source": [
    "mlscores=[]"
   ]
  },
  {
   "cell_type": "code",
   "execution_count": null,
   "metadata": {
    "id": "EsTPDgWRyd13"
   },
   "outputs": [],
   "source": [
    "from sklearn.model_selection import GridSearchCV, RandomizedSearchCV \n",
    "\n",
    "from sklearn.naive_bayes import MultinomialNB,BernoulliNB,GaussianNB\n",
    "from sklearn.linear_model import LogisticRegressionCV,Lasso\n",
    "from sklearn import metrics\n",
    "\n"
   ]
  },
  {
   "cell_type": "markdown",
   "metadata": {
    "id": "HgBEYFLGgfvl"
   },
   "source": [
    "### **MultinomialNB**"
   ]
  },
  {
   "cell_type": "code",
   "execution_count": null,
   "metadata": {
    "colab": {
     "base_uri": "https://localhost:8080/"
    },
    "executionInfo": {
     "elapsed": 45559,
     "status": "ok",
     "timestamp": 1609979548427,
     "user": {
      "displayName": "Abderrahmane HAJJI",
      "photoUrl": "",
      "userId": "15675344311234361853"
     },
     "user_tz": -60
    },
    "id": "bSZ3j6hmME88",
    "outputId": "36efda15-6f2f-4297-8162-400ab00522ba"
   },
   "outputs": [
    {
     "name": "stdout",
     "output_type": "stream",
     "text": [
      "Best Score:  0.79768860387622\n",
      "Best Params:  {'alpha': 0.279, 'fit_prior': True}\n",
      "Bernoulli F1 score: 0.749\n",
      "Precision: 0.7688243064729194\n",
      "Recall: 0.7302383939774153\n",
      "confusion matrix: [[932 175]\n",
      " [215 582]]\n",
      "              precision    recall  f1-score   support\n",
      "\n",
      "           0       0.81      0.84      0.83      1107\n",
      "           1       0.77      0.73      0.75       797\n",
      "\n",
      "    accuracy                           0.80      1904\n",
      "   macro avg       0.79      0.79      0.79      1904\n",
      "weighted avg       0.79      0.80      0.79      1904\n",
      "\n"
     ]
    }
   ],
   "source": [
    "grid_params = {\n",
    "  'alpha': np.linspace(0.001, 1, 1000),\n",
    "  'fit_prior': [True, False],  \n",
    "}\n",
    "\n",
    "aa=MultinomialNB()\n",
    "clf = GridSearchCV(aa, grid_params)\n",
    "clf.fit(X_train, y_train)\n",
    "print(\"Best Score: \", clf.best_score_)\n",
    "print(\"Best Params: \", clf.best_params_)\n",
    "mnb = MultinomialNB(alpha=clf.best_params_['alpha'],fit_prior=False)\n",
    "mnb.fit(X_train, y_train)\n",
    "y_pred = mnb.predict(X_test)\n",
    "print(\"Bernoulli F1 score: %.3f\" % metrics.f1_score(y_test, y_pred))\n",
    "print(\"Precision:\",metrics.precision_score(y_test, y_pred))\n",
    "print(\"Recall:\",metrics.recall_score(y_test, y_pred))\n",
    "print(\"confusion matrix:\",metrics.confusion_matrix(y_test, y_pred))\n",
    "print(metrics.classification_report(y_test, y_pred))\n",
    "fpr, tpr, thresholds = metrics.roc_curve(y_test, y_pred, pos_label=1)\n",
    "mlscores.append([\"MultinomialNB1\",metrics.f1_score(y_test, y_pred),metrics.precision_score(y_test, y_pred),metrics.recall_score(y_test, y_pred),metrics.auc(fpr, tpr)])\n"
   ]
  },
  {
   "cell_type": "code",
   "execution_count": null,
   "metadata": {
    "colab": {
     "base_uri": "https://localhost:8080/",
     "height": 550
    },
    "executionInfo": {
     "elapsed": 68500,
     "status": "ok",
     "timestamp": 1609979571379,
     "user": {
      "displayName": "Abderrahmane HAJJI",
      "photoUrl": "",
      "userId": "15675344311234361853"
     },
     "user_tz": -60
    },
    "id": "sB0GcexbR1S7",
    "outputId": "5809667f-e242-40bc-a420-f82ed7b19979"
   },
   "outputs": [
    {
     "name": "stdout",
     "output_type": "stream",
     "text": [
      "best alpha is  0.145\n",
      "Bernoulli F1 score: 0.745\n",
      "Precision: 0.7541827541827542\n",
      "Recall: 0.7352572145545797\n",
      "confusion matrix: [[916 191]\n",
      " [211 586]]\n",
      "              precision    recall  f1-score   support\n",
      "\n",
      "           0       0.81      0.83      0.82      1107\n",
      "           1       0.75      0.74      0.74       797\n",
      "\n",
      "    accuracy                           0.79      1904\n",
      "   macro avg       0.78      0.78      0.78      1904\n",
      "weighted avg       0.79      0.79      0.79      1904\n",
      "\n"
     ]
    },
    {
     "data": {
      "image/png": "[encoded data removed]",
      "text/plain": [
       "<Figure size 432x288 with 1 Axes>"
      ]
     },
     "metadata": {
      "needs_background": "light",
      "tags": []
     },
     "output_type": "display_data"
    }
   ],
   "source": [
    "alphas=[x for x in range(1,5001,1)]\n",
    "clfx = [metrics.f1_score(y_test,MultinomialNB(alpha=alpha/1000).fit(X_train, y_train)\n",
    ".predict(X_test)  )for alpha in alphas]\n",
    "aa=alphas[clfx.index(max(clfx))]/1000\n",
    "print(\"best alpha is \" ,aa)\n",
    "clfx = pd.Series(clfx, index = alphas)\n",
    "clfx.plot(title = \"Validation\")\n",
    "plt.xlabel(\"alpha\")\n",
    "plt.ylabel(\"acc\")\n",
    "mnb = MultinomialNB(alpha=aa,fit_prior=False)\n",
    "mnb.fit(X_train, y_train)\n",
    "y_pred = mnb.predict(X_test)\n",
    "print(\"Bernoulli F1 score: %.3f\" % metrics.f1_score(y_test, y_pred))\n",
    "print(\"Precision:\",metrics.precision_score(y_test, y_pred))\n",
    "print(\"Recall:\",metrics.recall_score(y_test, y_pred))\n",
    "print(\"confusion matrix:\",metrics.confusion_matrix(y_test, y_pred))\n",
    "print(metrics.classification_report(y_test, y_pred))\n",
    "fpr, tpr, thresholds = metrics.roc_curve(y_test, y_pred, pos_label=1)\n",
    "mlscores.append([\"MultinomialNB2\",metrics.f1_score(y_test, y_pred),metrics.precision_score(y_test, y_pred),metrics.recall_score(y_test, y_pred),metrics.auc(fpr, tpr)])"
   ]
  },
  {
   "cell_type": "markdown",
   "metadata": {
    "id": "Y_h6nxULgkkx"
   },
   "source": [
    "### **BernoulliNB**"
   ]
  },
  {
   "cell_type": "code",
   "execution_count": null,
   "metadata": {
    "colab": {
     "base_uri": "https://localhost:8080/"
    },
    "executionInfo": {
     "elapsed": 132102,
     "status": "ok",
     "timestamp": 1609979636053,
     "user": {
      "displayName": "Abderrahmane HAJJI",
      "photoUrl": "",
      "userId": "15675344311234361853"
     },
     "user_tz": -60
    },
    "id": "_EmN8GCDOIAY",
    "outputId": "40700188-a278-4452-f5dc-ef798c0fc614"
   },
   "outputs": [
    {
     "name": "stdout",
     "output_type": "stream",
     "text": [
      "Best Score:  0.8022403305546645\n",
      "Best Params:  {'alpha': 0.663, 'fit_prior': False}\n",
      "Bernoulli F1 score: 0.748\n",
      "Precision: 0.8108504398826979\n",
      "Recall: 0.6938519447929736\n",
      "confusion matrix: [[978 129]\n",
      " [244 553]]\n",
      "              precision    recall  f1-score   support\n",
      "\n",
      "           0       0.80      0.88      0.84      1107\n",
      "           1       0.81      0.69      0.75       797\n",
      "\n",
      "    accuracy                           0.80      1904\n",
      "   macro avg       0.81      0.79      0.79      1904\n",
      "weighted avg       0.80      0.80      0.80      1904\n",
      "\n"
     ]
    }
   ],
   "source": [
    "grid_params = {\n",
    "  'alpha': np.linspace(0.001, 1, 1000),\n",
    "  'fit_prior': [True, False],  \n",
    "}\n",
    "\n",
    "aa=BernoulliNB()\n",
    "clf = GridSearchCV(aa, grid_params)\n",
    "clf.fit(X_train, y_train)\n",
    "print(\"Best Score: \", clf.best_score_)\n",
    "print(\"Best Params: \", clf.best_params_)\n",
    "bnb_imp = BernoulliNB(alpha=clf.best_params_['alpha'],fit_prior=False)\n",
    "bnb_imp.fit(X_train, y_train)\n",
    "y_pred = bnb_imp.predict(X_test)\n",
    "print(\"Bernoulli F1 score: %.3f\" % metrics.f1_score(y_test, y_pred))\n",
    "print(\"Precision:\",metrics.precision_score(y_test, y_pred))\n",
    "print(\"Recall:\",metrics.recall_score(y_test, y_pred))\n",
    "print(\"confusion matrix:\",metrics.confusion_matrix(y_test, y_pred))\n",
    "print(metrics.classification_report(y_test, y_pred))\n",
    "fpr, tpr, thresholds = metrics.roc_curve(y_test, y_pred, pos_label=1)\n",
    "mlscores.append([\"BernoulliNB1\",metrics.f1_score(y_test, y_pred),metrics.precision_score(y_test, y_pred),metrics.recall_score(y_test, y_pred),metrics.auc(fpr, tpr)])"
   ]
  },
  {
   "cell_type": "code",
   "execution_count": null,
   "metadata": {
    "colab": {
     "base_uri": "https://localhost:8080/"
    },
    "executionInfo": {
     "elapsed": 149239,
     "status": "ok",
     "timestamp": 1609979653201,
     "user": {
      "displayName": "Abderrahmane HAJJI",
      "photoUrl": "",
      "userId": "15675344311234361853"
     },
     "user_tz": -60
    },
    "id": "Jto6pGIBgL_5",
    "outputId": "02a14e74-e65f-4d1f-ab64-258e98071ec8"
   },
   "outputs": [
    {
     "name": "stdout",
     "output_type": "stream",
     "text": [
      "best alpha is  0.626\n",
      "Bernoulli F1 score: 0.751\n",
      "Precision: 0.8098693759071117\n",
      "Recall: 0.7001254705144291\n",
      "confusion matrix: [[976 131]\n",
      " [239 558]]\n",
      "              precision    recall  f1-score   support\n",
      "\n",
      "           0       0.80      0.88      0.84      1107\n",
      "           1       0.81      0.70      0.75       797\n",
      "\n",
      "    accuracy                           0.81      1904\n",
      "   macro avg       0.81      0.79      0.80      1904\n",
      "weighted avg       0.81      0.81      0.80      1904\n",
      "\n"
     ]
    },
    {
     "data": {
      "image/png": "[encoded data removed]",
      "text/plain": [
       "<Figure size 432x288 with 1 Axes>"
      ]
     },
     "metadata": {
      "needs_background": "light",
      "tags": []
     },
     "output_type": "display_data"
    }
   ],
   "source": [
    "alphas=[x for x in range(1,2500,1)]\n",
    "clfx = [(metrics.f1_score(y_test,BernoulliNB(alpha=alpha/1000).fit(X_train, y_train)\n",
    ".predict(X_test))) for alpha in alphas]\n",
    "aa=alphas[clfx.index(max(clfx))]/1000\n",
    "print(\"best alpha is \" ,aa)\n",
    "clfx = pd.Series(clfx, index = alphas)\n",
    "clfx.plot(title = \"Validation\")\n",
    "plt.xlabel(\"alpha\")\n",
    "plt.ylabel(\"acc\")\n",
    "bnb_imp = BernoulliNB(alpha=aa,fit_prior=False)\n",
    "bnb_imp.fit(X_train, y_train)\n",
    "y_pred = bnb_imp.predict(X_test)\n",
    "print(\"Bernoulli F1 score: %.3f\" % metrics.f1_score(y_test, y_pred))\n",
    "print(\"Precision:\",metrics.precision_score(y_test, y_pred))\n",
    "print(\"Recall:\",metrics.recall_score(y_test, y_pred))\n",
    "print(\"confusion matrix:\",metrics.confusion_matrix(y_test, y_pred))\n",
    "print(metrics.classification_report(y_test, y_pred))\n",
    "fpr, tpr, thresholds = metrics.roc_curve(y_test, y_pred, pos_label=1)\n",
    "mlscores.append([\"BernoulliNB2\",metrics.f1_score(y_test, y_pred),metrics.precision_score(y_test, y_pred),metrics.recall_score(y_test, y_pred),metrics.auc(fpr, tpr)])"
   ]
  },
  {
   "cell_type": "markdown",
   "metadata": {
    "id": "tpcrz9NggpsE"
   },
   "source": [
    "### **GaussianNB**:"
   ]
  },
  {
   "cell_type": "code",
   "execution_count": null,
   "metadata": {
    "colab": {
     "base_uri": "https://localhost:8080/"
    },
    "executionInfo": {
     "elapsed": 149959,
     "status": "ok",
     "timestamp": 1609979655702,
     "user": {
      "displayName": "Abderrahmane HAJJI",
      "photoUrl": "",
      "userId": "15675344311234361853"
     },
     "user_tz": -60
    },
    "id": "nWVhyDjUguQ-",
    "outputId": "bf6e9f3a-f00e-4299-85a7-6d443ed95a7a"
   },
   "outputs": [
    {
     "name": "stdout",
     "output_type": "stream",
     "text": [
      "Gaussian's F1 score: 0.632\n",
      "Precision: 0.5352480417754569\n",
      "Recall: 0.7716436637390214\n",
      "confusion matrix: [[573 534]\n",
      " [182 615]]\n",
      "              precision    recall  f1-score   support\n",
      "\n",
      "           0       0.76      0.52      0.62      1107\n",
      "           1       0.54      0.77      0.63       797\n",
      "\n",
      "    accuracy                           0.62      1904\n",
      "   macro avg       0.65      0.64      0.62      1904\n",
      "weighted avg       0.67      0.62      0.62      1904\n",
      "\n"
     ]
    }
   ],
   "source": [
    "gnb= GaussianNB()\n",
    "gnb.fit(X_train.toarray(), y_train)\n",
    "y_pred = gnb.predict(X_test.toarray())\n",
    "print(\"Gaussian's F1 score: %.3f\" % metrics.f1_score(y_test, y_pred))\n",
    "print(\"Precision:\",metrics.precision_score(y_test, y_pred))\n",
    "print(\"Recall:\",metrics.recall_score(y_test, y_pred))\n",
    "print(\"confusion matrix:\",metrics.confusion_matrix(y_test, y_pred))\n",
    "print(metrics.classification_report(y_test, y_pred))\n",
    "fpr, tpr, thresholds = metrics.roc_curve(y_test, y_pred, pos_label=1)\n",
    "mlscores.append([\"GaussianNB\",metrics.f1_score(y_test, y_pred),metrics.precision_score(y_test, y_pred),metrics.recall_score(y_test, y_pred),metrics.auc(fpr, tpr)])"
   ]
  },
  {
   "cell_type": "markdown",
   "metadata": {
    "id": "2nSbzhrcgrIZ"
   },
   "source": [
    "### **Logistic Regression**"
   ]
  },
  {
   "cell_type": "code",
   "execution_count": null,
   "metadata": {
    "colab": {
     "base_uri": "https://localhost:8080/"
    },
    "executionInfo": {
     "elapsed": 158877,
     "status": "ok",
     "timestamp": 1609979667885,
     "user": {
      "displayName": "Abderrahmane HAJJI",
      "photoUrl": "",
      "userId": "15675344311234361853"
     },
     "user_tz": -60
    },
    "id": "73NzBK16JmqJ",
    "outputId": "ea5b500f-3eee-4713-99b1-8973ca5e0d42"
   },
   "outputs": [
    {
     "name": "stderr",
     "output_type": "stream",
     "text": [
      "[Parallel(n_jobs=-1)]: Using backend LokyBackend with 2 concurrent workers.\n"
     ]
    },
    {
     "name": "stdout",
     "output_type": "stream",
     "text": [
      "[LibLinear]LRCV F1 score: 0.757\n",
      "Precision: 0.8350983358547656\n",
      "Recall: 0.6925972396486826\n",
      "confusion matrix: [[998 109]\n",
      " [245 552]]\n",
      "              precision    recall  f1-score   support\n",
      "\n",
      "           0       0.80      0.90      0.85      1107\n",
      "           1       0.84      0.69      0.76       797\n",
      "\n",
      "    accuracy                           0.81      1904\n",
      "   macro avg       0.82      0.80      0.80      1904\n",
      "weighted avg       0.82      0.81      0.81      1904\n",
      "\n"
     ]
    },
    {
     "name": "stderr",
     "output_type": "stream",
     "text": [
      "[Parallel(n_jobs=-1)]: Done  10 out of  10 | elapsed:   12.1s finished\n"
     ]
    }
   ],
   "source": [
    "LRCV = LogisticRegressionCV(Cs=50,\n",
    "                            cv=10,\n",
    "                            scoring='balanced_accuracy',\n",
    "                            random_state=0,\n",
    "                            n_jobs=-1,\n",
    "                            verbose=3,\n",
    "                            solver=\"liblinear\",\n",
    "                            max_iter=300).fit(X_train,y_train)\n",
    "y_pred = LRCV.predict(X_test)\n",
    "print(\"LRCV F1 score: %.3f\" % metrics.f1_score(y_test, y_pred))\n",
    "print(\"Precision:\",metrics.precision_score(y_test, y_pred))\n",
    "print(\"Recall:\",metrics.recall_score(y_test, y_pred))\n",
    "print(\"confusion matrix:\",metrics.confusion_matrix(y_test, y_pred))\n",
    "print(metrics.classification_report(y_test, y_pred))\n",
    "fpr, tpr, thresholds = metrics.roc_curve(y_test, y_pred, pos_label=1)\n",
    "mlscores.append([\"LogisticRegressionCV\",metrics.f1_score(y_test, y_pred),metrics.precision_score(y_test, y_pred),metrics.recall_score(y_test, y_pred),metrics.auc(fpr, tpr)])"
   ]
  },
  {
   "cell_type": "code",
   "execution_count": null,
   "metadata": {
    "colab": {
     "base_uri": "https://localhost:8080/",
     "height": 235
    },
    "executionInfo": {
     "elapsed": 157111,
     "status": "ok",
     "timestamp": 1609979667886,
     "user": {
      "displayName": "Abderrahmane HAJJI",
      "photoUrl": "",
      "userId": "15675344311234361853"
     },
     "user_tz": -60
    },
    "id": "AOrPB1gYpmZ1",
    "outputId": "b4dbd794-a2e0-4221-c9fe-2c1ab992064b"
   },
   "outputs": [
    {
     "data": {
      "text/html": [
       "<div>\n",
       "<style scoped>\n",
       "    .dataframe tbody tr th:only-of-type {\n",
       "        vertical-align: middle;\n",
       "    }\n",
       "\n",
       "    .dataframe tbody tr th {\n",
       "        vertical-align: top;\n",
       "    }\n",
       "\n",
       "    .dataframe thead th {\n",
       "        text-align: right;\n",
       "    }\n",
       "</style>\n",
       "<table border=\"1\" class=\"dataframe\">\n",
       "  <thead>\n",
       "    <tr style=\"text-align: right;\">\n",
       "      <th></th>\n",
       "      <th>0</th>\n",
       "      <th>1</th>\n",
       "      <th>2</th>\n",
       "      <th>3</th>\n",
       "      <th>4</th>\n",
       "    </tr>\n",
       "  </thead>\n",
       "  <tbody>\n",
       "    <tr>\n",
       "      <th>5</th>\n",
       "      <td>LogisticRegressionCV</td>\n",
       "      <td>0.757202</td>\n",
       "      <td>0.835098</td>\n",
       "      <td>0.692597</td>\n",
       "      <td>0.797066</td>\n",
       "    </tr>\n",
       "    <tr>\n",
       "      <th>3</th>\n",
       "      <td>BernoulliNB2</td>\n",
       "      <td>0.751009</td>\n",
       "      <td>0.809869</td>\n",
       "      <td>0.700125</td>\n",
       "      <td>0.790894</td>\n",
       "    </tr>\n",
       "    <tr>\n",
       "      <th>0</th>\n",
       "      <td>MultinomialNB1</td>\n",
       "      <td>0.749035</td>\n",
       "      <td>0.768824</td>\n",
       "      <td>0.730238</td>\n",
       "      <td>0.786077</td>\n",
       "    </tr>\n",
       "    <tr>\n",
       "      <th>2</th>\n",
       "      <td>BernoulliNB1</td>\n",
       "      <td>0.747803</td>\n",
       "      <td>0.810850</td>\n",
       "      <td>0.693852</td>\n",
       "      <td>0.788660</td>\n",
       "    </tr>\n",
       "    <tr>\n",
       "      <th>1</th>\n",
       "      <td>MultinomialNB2</td>\n",
       "      <td>0.744600</td>\n",
       "      <td>0.754183</td>\n",
       "      <td>0.735257</td>\n",
       "      <td>0.781359</td>\n",
       "    </tr>\n",
       "    <tr>\n",
       "      <th>4</th>\n",
       "      <td>GaussianNB</td>\n",
       "      <td>0.632066</td>\n",
       "      <td>0.535248</td>\n",
       "      <td>0.771644</td>\n",
       "      <td>0.644629</td>\n",
       "    </tr>\n",
       "  </tbody>\n",
       "</table>\n",
       "</div>"
      ],
      "text/plain": [
       "                      0         1         2         3         4\n",
       "5  LogisticRegressionCV  0.757202  0.835098  0.692597  0.797066\n",
       "3          BernoulliNB2  0.751009  0.809869  0.700125  0.790894\n",
       "0        MultinomialNB1  0.749035  0.768824  0.730238  0.786077\n",
       "2          BernoulliNB1  0.747803  0.810850  0.693852  0.788660\n",
       "1        MultinomialNB2  0.744600  0.754183  0.735257  0.781359\n",
       "4            GaussianNB  0.632066  0.535248  0.771644  0.644629"
      ]
     },
     "execution_count": 12,
     "metadata": {
      "tags": []
     },
     "output_type": "execute_result"
    }
   ],
   "source": [
    "pd.DataFrame(mlscores).sort_values(by=[1], ascending=False)"
   ]
  }
 ],
 "metadata": {
  "accelerator": "GPU",
  "colab": {
   "authorship_tag": "ABX9TyOcMK4d/ZnCTkM3RhXdXW/x",
   "collapsed_sections": [],
   "name": "NLP regression with TFIDF etc....ipynb",
   "provenance": []
  },
  "kernelspec": {
   "display_name": "Python 3",
   "language": "python",
   "name": "python3"
  },
  "language_info": {
   "codemirror_mode": {
    "name": "ipython",
    "version": 3
   },
   "file_extension": ".py",
   "mimetype": "text/x-python",
   "name": "python",
   "nbconvert_exporter": "python",
   "pygments_lexer": "ipython3",
   "version": "3.8.6"
  }
 },
 "nbformat": 4,
 "nbformat_minor": 1
}
