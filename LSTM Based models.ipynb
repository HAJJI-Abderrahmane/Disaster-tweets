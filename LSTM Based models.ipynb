{
 "cells": [
  {
   "cell_type": "code",
   "execution_count": null,
   "metadata": {
    "id": "uCUogkuQh4tk"
   },
   "outputs": [],
   "source": [
    "import pandas as pd\n",
    "import numpy as np\n",
    "import string\n",
    "\n",
    "from sklearn.feature_extraction.text import TfidfVectorizer\n",
    "import matplotlib.pyplot as plt\n",
    "from sklearn.model_selection import train_test_split\n",
    "import re\n",
    "from sklearn.linear_model import LogisticRegressionCV\n",
    "\n",
    "from sklearn.naive_bayes import MultinomialNB,BernoulliNB\n",
    "from sklearn import metrics\n",
    "from sklearn.tree import DecisionTreeClassifier\n",
    "from sklearn.naive_bayes import GaussianNB\n",
    "from nltk.stem import SnowballStemmer\n",
    "# !pip install zeugma\n",
    "from zeugma.embeddings import EmbeddingTransformer\n",
    "\n",
    "from keras.models import Model,load_model\n",
    "from keras.layers import Dense, Input, Dropout, LSTM, Activation,Bidirectional\n",
    "from keras.layers.embeddings import Embedding\n",
    "from keras.preprocessing import sequence\n",
    "from keras.initializers import glorot_uniform\n",
    "from keras.callbacks import ModelCheckpoint\n",
    "import IPython\n",
    "from keras.optimizers import Adam\n",
    "!pip install -q -U keras-tuner\n",
    "import kerastuner as kt\n",
    "import tensorflow as tf\n",
    "import matplotlib.pyplot as plt\n",
    "from tensorflow import keras"
   ]
  },
  {
   "cell_type": "code",
   "execution_count": null,
   "metadata": {
    "id": "D8ykAKJqh9Q6"
   },
   "outputs": [],
   "source": [
    "df_train=pd.read_csv(\"/data/train.csv\")"
   ]
  },
  {
   "cell_type": "code",
   "execution_count": null,
   "metadata": {
    "id": "aHUAfQnPjDQM"
   },
   "outputs": [],
   "source": [
    "dfE_train=df_train.drop([\"id\",\"keyword\",\"location\"],axis=1)"
   ]
  },
  {
   "cell_type": "code",
   "execution_count": null,
   "metadata": {
    "colab": {
     "base_uri": "https://localhost:8080/",
     "height": 279
    },
    "executionInfo": {
     "elapsed": 2728,
     "status": "ok",
     "timestamp": 1608834127542,
     "user": {
      "displayName": "Abderrahmane HAJJI",
      "photoUrl": "",
      "userId": "15675344311234361853"
     },
     "user_tz": -60
    },
    "id": "Hb7O0bs7jvnB",
    "outputId": "4ea6d906-3019-46cc-a9d6-3fa4b85bf669"
   },
   "outputs": [
    {
     "data": {
      "text/plain": [
       "<matplotlib.axes._subplots.AxesSubplot at 0x7f794524b940>"
      ]
     },
     "execution_count": 216,
     "metadata": {
      "tags": []
     },
     "output_type": "execute_result"
    },
    {
     "data": {
      "image/png": "[encoded data removed]",
      "text/plain": [
       "<Figure size 432x288 with 1 Axes>"
      ]
     },
     "metadata": {
      "needs_background": "light",
      "tags": []
     },
     "output_type": "display_data"
    }
   ],
   "source": [
    "#This Means we have an unbalanced dataset, we can try later to fix it if our model dont work that well.\n",
    "dfE_train.target.value_counts().sort_values().plot(kind = 'bar')"
   ]
  },
  {
   "cell_type": "code",
   "execution_count": null,
   "metadata": {
    "id": "YDvlyTZuzcKh"
   },
   "outputs": [],
   "source": [
    "df_class_0 = dfE_train[dfE_train['target'] == 0]\n",
    "df_class_1 = df_train[df_train['target'] == 1]"
   ]
  },
  {
   "cell_type": "code",
   "execution_count": null,
   "metadata": {
    "id": "f_NFDypPymbD"
   },
   "outputs": [],
   "source": [
    "df_class_0_under = df_class_0.sample(dfE_train.target.value_counts()[1])\n",
    "dfE_train = pd.concat([df_class_0_under, df_class_1], axis=0)"
   ]
  },
  {
   "cell_type": "code",
   "execution_count": null,
   "metadata": {
    "colab": {
     "base_uri": "https://localhost:8080/",
     "height": 279
    },
    "executionInfo": {
     "elapsed": 2336,
     "status": "ok",
     "timestamp": 1608834127544,
     "user": {
      "displayName": "Abderrahmane HAJJI",
      "photoUrl": "",
      "userId": "15675344311234361853"
     },
     "user_tz": -60
    },
    "id": "ft-FVk2eyd-N",
    "outputId": "89472475-112e-41e6-838b-8b8b92e6d622"
   },
   "outputs": [
    {
     "data": {
      "text/plain": [
       "<matplotlib.axes._subplots.AxesSubplot at 0x7f787c411a90>"
      ]
     },
     "execution_count": 219,
     "metadata": {
      "tags": []
     },
     "output_type": "execute_result"
    },
    {
     "data": {
      "image/png": "[encoded data removed]",
      "text/plain": [
       "<Figure size 432x288 with 1 Axes>"
      ]
     },
     "metadata": {
      "needs_background": "light",
      "tags": []
     },
     "output_type": "display_data"
    }
   ],
   "source": [
    "dfE_train.target.value_counts().sort_values().plot(kind = 'bar')\n"
   ]
  },
  {
   "cell_type": "code",
   "execution_count": null,
   "metadata": {
    "id": "cqoOkRtjogpJ"
   },
   "outputs": [],
   "source": [
    "#This function removes consecutive characters \n",
    "def remove_repeating_char(text):\n",
    "  return re.sub(r'(.)\\1+', r'\\1\\1', text) \n",
    "\n",
    "def preprocess(text, stem=False):\n",
    "    stemmer = SnowballStemmer('english') \n",
    "    text=text.lower().split()\n",
    "    text=[i.strip(\"''\") for i in text]\n",
    "    tokens  = []\n",
    "    L=[\"http\",\"co\",\"https\",\"@\",\"fvnl1ktpb1\",\"test\"]\n",
    "    for s in text:\n",
    "      s=remove_repeating_char(s)\n",
    "      if s not in stop:\n",
    "        for i in L:\n",
    "          if  i in s:\n",
    "            s=s.replace(i,\"\")\n",
    "        if \"t.ly/\" not in s:\n",
    "          tokens.append(s)\n",
    "    return \" \".join(tokens)"
   ]
  },
  {
   "cell_type": "code",
   "execution_count": null,
   "metadata": {
    "id": "1ShxEtJwojuI"
   },
   "outputs": [],
   "source": [
    "dfE_train.text = dfE_train.text.apply(lambda x: preprocess(x))"
   ]
  },
  {
   "cell_type": "code",
   "execution_count": null,
   "metadata": {
    "colab": {
     "base_uri": "https://localhost:8080/",
     "height": 204
    },
    "executionInfo": {
     "elapsed": 2093,
     "status": "ok",
     "timestamp": 1608834128045,
     "user": {
      "displayName": "Abderrahmane HAJJI",
      "photoUrl": "",
      "userId": "15675344311234361853"
     },
     "user_tz": -60
    },
    "id": "uR349ukOou8v",
    "outputId": "98da56cf-30ac-416a-9109-7a7689230c9c"
   },
   "outputs": [
    {
     "data": {
      "text/html": [
       "<div>\n",
       "<style scoped>\n",
       "    .dataframe tbody tr th:only-of-type {\n",
       "        vertical-align: middle;\n",
       "    }\n",
       "\n",
       "    .dataframe tbody tr th {\n",
       "        vertical-align: top;\n",
       "    }\n",
       "\n",
       "    .dataframe thead th {\n",
       "        text-align: right;\n",
       "    }\n",
       "</style>\n",
       "<table border=\"1\" class=\"dataframe\">\n",
       "  <thead>\n",
       "    <tr style=\"text-align: right;\">\n",
       "      <th></th>\n",
       "      <th>text</th>\n",
       "      <th>target</th>\n",
       "      <th>id</th>\n",
       "      <th>keyword</th>\n",
       "      <th>location</th>\n",
       "    </tr>\n",
       "  </thead>\n",
       "  <tbody>\n",
       "    <tr>\n",
       "      <th>6756</th>\n",
       "      <td>i'm tornado looking soul take</td>\n",
       "      <td>0</td>\n",
       "      <td>NaN</td>\n",
       "      <td>NaN</td>\n",
       "      <td>NaN</td>\n",
       "    </tr>\n",
       "    <tr>\n",
       "      <th>5994</th>\n",
       "      <td>gets battlefield 3 screams mic cunts</td>\n",
       "      <td>0</td>\n",
       "      <td>NaN</td>\n",
       "      <td>NaN</td>\n",
       "      <td>NaN</td>\n",
       "    </tr>\n",
       "    <tr>\n",
       "      <th>2298</th>\n",
       "      <td>first unter league game another orianna happen...</td>\n",
       "      <td>0</td>\n",
       "      <td>NaN</td>\n",
       "      <td>NaN</td>\n",
       "      <td>NaN</td>\n",
       "    </tr>\n",
       "    <tr>\n",
       "      <th>907</th>\n",
       "      <td>eh hello ver bloody thighs bloody cleav.. ûó ...</td>\n",
       "      <td>0</td>\n",
       "      <td>NaN</td>\n",
       "      <td>NaN</td>\n",
       "      <td>NaN</td>\n",
       "    </tr>\n",
       "    <tr>\n",
       "      <th>2871</th>\n",
       "      <td>pizza drought anymore..</td>\n",
       "      <td>0</td>\n",
       "      <td>NaN</td>\n",
       "      <td>NaN</td>\n",
       "      <td>NaN</td>\n",
       "    </tr>\n",
       "  </tbody>\n",
       "</table>\n",
       "</div>"
      ],
      "text/plain": [
       "                                                   text  ...  location\n",
       "6756                      i'm tornado looking soul take  ...       NaN\n",
       "5994               gets battlefield 3 screams mic cunts  ...       NaN\n",
       "2298  first unter league game another orianna happen...  ...       NaN\n",
       "907   eh hello ver bloody thighs bloody cleav.. ûó ...  ...       NaN\n",
       "2871                            pizza drought anymore..  ...       NaN\n",
       "\n",
       "[5 rows x 5 columns]"
      ]
     },
     "execution_count": 224,
     "metadata": {
      "tags": []
     },
     "output_type": "execute_result"
    }
   ],
   "source": [
    "dfE_train.head()"
   ]
  },
  {
   "cell_type": "code",
   "execution_count": null,
   "metadata": {
    "id": "YjdKEWSq6Nu4"
   },
   "outputs": [],
   "source": [
    "glove = EmbeddingTransformer('glove')\n",
    "X= glove.transform(dfE_train.text.to_numpy())"
   ]
  },
  {
   "cell_type": "markdown",
   "metadata": {
    "id": "al7t4_bM8dse"
   },
   "source": [
    "Testing with basic Deeplearning(TFIDF then GloVe)"
   ]
  },
  {
   "cell_type": "code",
   "execution_count": null,
   "metadata": {
    "id": "goBaPJU01Tlu"
   },
   "outputs": [],
   "source": [
    "\n",
    "def read_glove_vecs(glove_file):\n",
    "    with open(glove_file, 'r') as f:\n",
    "        words = set()\n",
    "        word_to_vec_map = {}\n",
    "        for line in f:\n",
    "            line = line.strip().split()\n",
    "            curr_word = line[0]\n",
    "            words.add(curr_word)\n",
    "            word_to_vec_map[curr_word] = np.array(line[1:], dtype=np.float64)\n",
    "        \n",
    "        i = 1\n",
    "        words_to_index = {}\n",
    "        index_to_words = {}\n",
    "        for w in sorted(words):\n",
    "            words_to_index[w] = i\n",
    "            index_to_words[i] = w\n",
    "            i = i + 1\n",
    "    return words_to_index, index_to_words, word_to_vec_map\n",
    "\n",
    "    \n",
    "def convert_to_one_hot(Y, C):\n",
    "    Y = np.eye(C)[Y.reshape(-1)]\n",
    "    return Y\n",
    "\n",
    "\n",
    "def sentences_to_indices(X, word_to_index, max_len):\n",
    "\n",
    "    \n",
    "    m = X.shape[0]                                  \n",
    "    \n",
    "\n",
    "    X_indices = np.zeros((m,max_len))\n",
    "    \n",
    "    for i in range(m):                           \n",
    "        sentence_words = [word.lower() for word in X[i].split()]\n",
    "        table = str.maketrans('', '', string.punctuation)\n",
    "        stripped = [w.translate(table) for w in sentence_words]\n",
    "        j = 0\n",
    "        for w in stripped:\n",
    "            try:\n",
    "              X_indices[i, j] = word_to_index[w]\n",
    "\n",
    "              j = j + 1\n",
    "            except Exception as e:\n",
    "              continue\n",
    "    return X_indices\n",
    "\n",
    "def maxlenofdata(X):\n",
    "  maxlen=0\n",
    "  for i in X:\n",
    "    ll=len(i.split())\n",
    "    if ll>maxlen:\n",
    "      maxlen=ll\n",
    "  return maxlen\n",
    "\n",
    "\n",
    "def fixing(X):\n",
    "  Y=[]\n",
    "  for i in range(len(X)):\n",
    "    Y.append(np.argmax(X[i]))\n",
    "  return Y\n",
    "\n",
    "\n",
    "def pretrained_embedding_layer(word_to_vec_map, word_to_index):\n",
    "    vocab_len = len(word_to_index) + 1                  \n",
    "    emb_dim = word_to_vec_map[\"cucumber\"].shape[0]      \n",
    "    emb_matrix = np.zeros((vocab_len,emb_dim))\n",
    "    for word, idx in word_to_index.items():\n",
    "        emb_matrix[idx, :] = word_to_vec_map[word]\n",
    "    embedding_layer = Embedding(vocab_len,emb_dim,trainable=False)\n",
    "    embedding_layer.build((None,)) \n",
    "    embedding_layer.set_weights([emb_matrix])\n",
    "    \n",
    "    return embedding_layer\n",
    "\n",
    "\n",
    "\n",
    "\n",
    "def polispor(input_shape, word_to_vec_map, word_to_index):\n",
    "\n",
    "    sentence_indices = Input(input_shape, dtype='int32')\n",
    "\n",
    "    embedding_layer = pretrained_embedding_layer(word_to_vec_map, word_to_index)\n",
    "\n",
    "    embeddings = embedding_layer(sentence_indices)  \n",
    "\n",
    "    X = LSTM(64, return_sequences = True)(embeddings)\n",
    "\n",
    "    X = Dropout(0.5)(X)\n",
    "    X = LSTM(160, return_sequences=False)(X)\n",
    "    X = Dropout(0.5)(X)\n",
    "    X = Dense(2)(X)\n",
    "    X = Activation('softmax')(X)\n",
    "    model = Model(inputs=sentence_indices, outputs=X)\n",
    "    return model"
   ]
  },
  {
   "cell_type": "code",
   "execution_count": null,
   "metadata": {
    "id": "z0C6ec3g1yl1"
   },
   "outputs": [],
   "source": [
    "word_to_index, index_to_word, word_to_vec_map = read_glove_vecs('glove.6B.100d.txt')"
   ]
  },
  {
   "cell_type": "code",
   "execution_count": null,
   "metadata": {
    "id": "oEVYVkhs85lV"
   },
   "outputs": [],
   "source": [
    "from sklearn.model_selection import train_test_split\n",
    "\n",
    "data_train, data_test, labels_train1, labels_test1 = train_test_split(dfE_train.text.to_numpy(), dfE_train.target.to_numpy(), test_size=0.20, random_state=42)\n",
    "max_len=maxlenofdata(data_train)\n",
    "labels_train = convert_to_one_hot(labels_train1, C = 2)\n",
    "labels_test = convert_to_one_hot(labels_test1, C = 2)"
   ]
  },
  {
   "cell_type": "code",
   "execution_count": null,
   "metadata": {
    "id": "ZycGvoDb9L4i"
   },
   "outputs": [],
   "source": [
    "data_train_indices=sentences_to_indices(data_train,word_to_index, max_len = max_len)\n",
    "data_test_indices=sentences_to_indices(data_test,word_to_index, max_len = max_len)"
   ]
  },
  {
   "cell_type": "code",
   "execution_count": null,
   "metadata": {
    "id": "F8gFuNuF9NN3"
   },
   "outputs": [],
   "source": [
    "embedding_layer = pretrained_embedding_layer(word_to_vec_map, word_to_index)"
   ]
  },
  {
   "cell_type": "code",
   "execution_count": null,
   "metadata": {
    "colab": {
     "base_uri": "https://localhost:8080/"
    },
    "executionInfo": {
     "elapsed": 2351,
     "status": "ok",
     "timestamp": 1608836088425,
     "user": {
      "displayName": "Abderrahmane HAJJI",
      "photoUrl": "",
      "userId": "15675344311234361853"
     },
     "user_tz": -60
    },
    "id": "Hk3_sCpm9Pw7",
    "outputId": "e0ba95e7-0866-41fe-8461-2c22aa4c59a5"
   },
   "outputs": [
    {
     "name": "stdout",
     "output_type": "stream",
     "text": [
      "Model: \"model_1\"\n",
      "_________________________________________________________________\n",
      "Layer (type)                 Output Shape              Param #   \n",
      "=================================================================\n",
      "input_2 (InputLayer)         [(None, 25)]              0         \n",
      "_________________________________________________________________\n",
      "embedding (Embedding)        (None, 25, 100)           40000100  \n",
      "_________________________________________________________________\n",
      "lstm_2 (LSTM)                (None, 25, 64)            42240     \n",
      "_________________________________________________________________\n",
      "dropout_2 (Dropout)          (None, 25, 64)            0         \n",
      "_________________________________________________________________\n",
      "lstm_3 (LSTM)                (None, 160)               144000    \n",
      "_________________________________________________________________\n",
      "dropout_3 (Dropout)          (None, 160)               0         \n",
      "_________________________________________________________________\n",
      "dense_1 (Dense)              (None, 2)                 322       \n",
      "_________________________________________________________________\n",
      "activation_1 (Activation)    (None, 2)                 0         \n",
      "=================================================================\n",
      "Total params: 40,186,662\n",
      "Trainable params: 186,562\n",
      "Non-trainable params: 40,000,100\n",
      "_________________________________________________________________\n"
     ]
    }
   ],
   "source": [
    "model = polispor((max_len,), word_to_vec_map, word_to_index)\n",
    "model.summary()"
   ]
  },
  {
   "cell_type": "code",
   "execution_count": null,
   "metadata": {
    "id": "6sPgED4hxfgi"
   },
   "outputs": [],
   "source": [
    "mc = ModelCheckpoint('best_model.h5', monitor='val_accuracy', mode='max', verbose=1, save_best_only=True)\n",
    "opt=Adam(learning_rate=0.001)\n",
    "model.compile(loss='categorical_crossentropy', optimizer=opt, metrics=['accuracy'])"
   ]
  },
  {
   "cell_type": "code",
   "execution_count": null,
   "metadata": {
    "id": "NLcrlrC_9VTt"
   },
   "outputs": [],
   "source": [
    "history=model.fit(data_train_indices, labels_train, epochs = 50, batch_size = 128,validation_data=(data_test_indices,labels_test),verbose=1 ,shuffle=True,callbacks=[mc])"
   ]
  },
  {
   "cell_type": "code",
   "execution_count": null,
   "metadata": {
    "colab": {
     "base_uri": "https://localhost:8080/",
     "height": 296
    },
    "executionInfo": {
     "elapsed": 191890,
     "status": "ok",
     "timestamp": 1608834322212,
     "user": {
      "displayName": "Abderrahmane HAJJI",
      "photoUrl": "",
      "userId": "15675344311234361853"
     },
     "user_tz": -60
    },
    "id": "fYE41Mfk9XLA",
    "outputId": "a2c3d1cd-f91b-4fa2-8946-80f7eb66910a"
   },
   "outputs": [
    {
     "data": {
      "text/plain": [
       "<matplotlib.legend.Legend at 0x7f793b079a90>"
      ]
     },
     "execution_count": 247,
     "metadata": {
      "tags": []
     },
     "output_type": "execute_result"
    },
    {
     "data": {
      "image/png": "[encoded data removed]",
      "text/plain": [
       "<Figure size 432x288 with 1 Axes>"
      ]
     },
     "metadata": {
      "needs_background": "light",
      "tags": []
     },
     "output_type": "display_data"
    }
   ],
   "source": [
    "plt.plot(history.history[\"loss\"],label='train loss')\n",
    "plt.plot(history.history[\"val_loss\"],label='val loss')\n",
    "plt.xlabel('epoch')\n",
    "plt.ylabel('Cross-entropy loss')\n",
    "plt.legend()"
   ]
  },
  {
   "cell_type": "code",
   "execution_count": null,
   "metadata": {
    "colab": {
     "base_uri": "https://localhost:8080/",
     "height": 296
    },
    "executionInfo": {
     "elapsed": 191615,
     "status": "ok",
     "timestamp": 1608834322478,
     "user": {
      "displayName": "Abderrahmane HAJJI",
      "photoUrl": "",
      "userId": "15675344311234361853"
     },
     "user_tz": -60
    },
    "id": "GgmlGraj9ZZN",
    "outputId": "07bc0d29-9b88-4c0f-982f-0da3067ff16d"
   },
   "outputs": [
    {
     "data": {
      "text/plain": [
       "<matplotlib.legend.Legend at 0x7f78d82542e8>"
      ]
     },
     "execution_count": 248,
     "metadata": {
      "tags": []
     },
     "output_type": "execute_result"
    },
    {
     "data": {
      "image/png": "[encoded data removed]",
      "text/plain": [
       "<Figure size 432x288 with 1 Axes>"
      ]
     },
     "metadata": {
      "needs_background": "light",
      "tags": []
     },
     "output_type": "display_data"
    }
   ],
   "source": [
    "plt.plot(history.history[\"accuracy\"],label='train accuracy')\n",
    "plt.plot(history.history[\"val_accuracy\"],label='val accuracy')\n",
    "plt.xlabel('epoch')\n",
    "plt.ylabel('accuracy')\n",
    "plt.legend()"
   ]
  },
  {
   "cell_type": "code",
   "execution_count": null,
   "metadata": {
    "id": "KaGVdui-9m0V"
   },
   "outputs": [],
   "source": [
    "saved_model = load_model('best_model.h5')"
   ]
  },
  {
   "cell_type": "code",
   "execution_count": null,
   "metadata": {
    "colab": {
     "base_uri": "https://localhost:8080/"
    },
    "executionInfo": {
     "elapsed": 192430,
     "status": "ok",
     "timestamp": 1608834324338,
     "user": {
      "displayName": "Abderrahmane HAJJI",
      "photoUrl": "",
      "userId": "15675344311234361853"
     },
     "user_tz": -60
    },
    "id": "DupczsE89iOt",
    "outputId": "dddf9035-adc9-4b2f-d9e6-124d23937dd6"
   },
   "outputs": [
    {
     "name": "stdout",
     "output_type": "stream",
     "text": [
      "41/41 [==============================] - 1s 5ms/step - loss: 0.4622 - accuracy: 0.8113\n",
      "\n",
      "Test accuracy =  0.811306357383728\n"
     ]
    }
   ],
   "source": [
    "data_test_indices = sentences_to_indices(data_test, word_to_index, max_len = max_len)\n",
    "loss, acc = saved_model.evaluate(data_test_indices, labels_test)\n",
    "print()\n",
    "print(\"Test accuracy = \", acc)"
   ]
  },
  {
   "cell_type": "markdown",
   "metadata": {
    "id": "PkO-PSQ0CF4d"
   },
   "source": [
    "Tuning our simple model"
   ]
  },
  {
   "cell_type": "code",
   "execution_count": null,
   "metadata": {
    "colab": {
     "base_uri": "https://localhost:8080/"
    },
    "executionInfo": {
     "elapsed": 1001098,
     "status": "ok",
     "timestamp": 1608836028957,
     "user": {
      "displayName": "Abderrahmane HAJJI",
      "photoUrl": "",
      "userId": "15675344311234361853"
     },
     "user_tz": -60
    },
    "id": "_X735Eb0Bqf9",
    "outputId": "3614169f-a229-4317-f54b-35958dce4299"
   },
   "outputs": [
    {
     "name": "stdout",
     "output_type": "stream",
     "text": [
      "Trial 10 Complete [00h 01m 23s]\n",
      "val_accuracy: 0.80621337890625\n",
      "\n",
      "Best val_accuracy So Far: 0.8141074577967325\n",
      "Total elapsed time: 00h 16m 39s\n",
      "INFO:tensorflow:Oracle triggered exit\n",
      "The hyperparameter search is complete. The optimal number of units in the first bidirectional lstm is 64 and the second bidirectional lstm units is 160 the optimal learning rate for the optimizeris 0.001.\n"
     ]
    }
   ],
   "source": [
    "#Hyperparameter Tuning Cell\n",
    "def simplenlpmodel2(hp):\n",
    "    sentence_indices = Input((25,), dtype='int32')\n",
    "    hp_units = hp.Int('units', min_value = 32, max_value = 512, step = 32)\n",
    "    embeddings = embedding_layer(sentence_indices)  \n",
    "    X = Bidirectional(LSTM(hp_units, return_sequences = False))(embeddings)\n",
    "    X = Dropout(0.5)(X)\n",
    "    X = Dense(2)(X)\n",
    "    X = Activation('softmax')(X)\n",
    "    model = Model(inputs=sentence_indices, outputs=X)\n",
    "    hp_learning_rate = hp.Choice('learning_rate', values = [1e-2, 1e-3, 1e-4]) \n",
    "  \n",
    "    model.compile(optimizer = keras.optimizers.Adam(learning_rate = hp_learning_rate),\n",
    "                loss='categorical_crossentropy', \n",
    "                metrics = ['accuracy'])\n",
    "    return model\n",
    "\n",
    "def simpleH(hp):\n",
    "    sentence_indices = Input((25,), dtype='int32') \n",
    "    hp_units1 = hp.Int('units1', min_value = 32, max_value = 512, step = 32)\n",
    "    embeddings = embedding_layer(sentence_indices) \n",
    "    X = Bidirectional(LSTM(hp_units1, return_sequences = True))(embeddings)\n",
    "    X = Dropout(0.5)(X)\n",
    "    hp_units2 = hp.Int('units2', min_value = 32, max_value = 512, step = 32)\n",
    "    X = Bidirectional(LSTM(hp_units2, return_sequences=False))(X)\n",
    "    X = Dropout(0.5)(X)\n",
    "    X = Dense(2)(X)\n",
    "    X = Activation('softmax')(X)\n",
    "    model = Model(inputs=sentence_indices, outputs=X)\n",
    "    hp_learning_rate = hp.Choice('learning_rate', values = [1e-2, 1e-3, 1e-4]) \n",
    "  \n",
    "    model.compile(optimizer = keras.optimizers.Adam(learning_rate = hp_learning_rate),\n",
    "                loss='categorical_crossentropy', \n",
    "                metrics = ['accuracy'])\n",
    "    return model\n",
    "\n",
    "\n",
    "\n",
    "\n",
    "\n",
    "tuner=kt.RandomSearch(simpleH,objective='val_accuracy',max_trials=10,executions_per_trial=3,directory=\"my_dir\",project_name=\"hyperparameter tuning2\")\n",
    "class ClearTrainingOutput(tf.keras.callbacks.Callback):\n",
    "  def on_train_end(*args, **kwargs):\n",
    "    IPython.display.clear_output(wait = True)\n",
    "\n",
    "\n",
    "\n",
    "tuner.search(data_train_indices, labels_train,validation_data=(data_test_indices,labels_test), epochs = 10, callbacks = [ClearTrainingOutput()])\n",
    "\n",
    "# Get the optimal hyperparameters\n",
    "best_hps = tuner.get_best_hyperparameters(num_trials = 1)[0]\n",
    "\n",
    "print(f\"\"\"The hyperparameter search is complete. The optimal number of units in the first bidirectional lstm is {best_hps.get('units1')} and the second bidirectional lstm units is {best_hps.get('units2')} the optimal learning rate for the optimizeris {best_hps.get('learning_rate')}.\"\"\")"
   ]
  }
 ],
 "metadata": {
  "accelerator": "GPU",
  "colab": {
   "authorship_tag": "ABX9TyMbN8cFfjvc53XET+03+2+c",
   "collapsed_sections": [],
   "mount_file_id": "1_BYDv6w2TJuctFjyNB8-ak_0vPiYe8YU",
   "name": "NLPwithdisastertweets.ipynb",
   "provenance": []
  },
  "kernelspec": {
   "display_name": "Python 3",
   "language": "python",
   "name": "python3"
  },
  "language_info": {
   "codemirror_mode": {
    "name": "ipython",
    "version": 3
   },
   "file_extension": ".py",
   "mimetype": "text/x-python",
   "name": "python",
   "nbconvert_exporter": "python",
   "pygments_lexer": "ipython3",
   "version": "3.8.6"
  }
 },
 "nbformat": 4,
 "nbformat_minor": 1
}
